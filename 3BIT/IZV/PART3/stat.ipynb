{
 "cells": [
  {
   "cell_type": "markdown",
   "metadata": {
    "collapsed": false
   },
   "source": [
    "# IZV - 3. PROJEKT - 2. ÚKOL - Test Hypotézy\n",
    "## Autor: Ladislav Vašina (xvasin11)\n",
    "### Hypotéza 1\n",
    "*Na silnicích první třídy se při nehodách umíralo se stejnou pravděpodobností jako nasilnicích třetí třídy.*"
   ]
  },
  {
   "cell_type": "markdown",
   "metadata": {
    "collapsed": false
   },
   "source": [
    "Nejdříve si naimportujeme potřebné knihovny"
   ]
  },
  {
   "cell_type": "code",
   "execution_count": 110,
   "metadata": {
    "collapsed": false
   },
   "outputs": [],
   "source": [
    "import pandas as pd\n",
    "from scipy.stats import chi2_contingency, ttest_ind"
   ]
  },
  {
   "cell_type": "markdown",
   "metadata": {
    "collapsed": false
   },
   "source": [
    "Načteme si náš dataset"
   ]
  },
  {
   "cell_type": "code",
   "execution_count": 111,
   "metadata": {
    "collapsed": false
   },
   "outputs": [],
   "source": [
    "df_orig = pd.read_pickle('accidents.pkl.gz')\n",
    "df = df_orig.copy()"
   ]
  },
  {
   "cell_type": "markdown",
   "metadata": {
    "collapsed": false
   },
   "source": [
    "Vyfiltrujeme dataset tak, aby obsahoval pouze nehody, které se staly na silnicích 1. a 3. třídy.\n",
    "Také si vytvoříme pomocný sloupec značící zda při nehodě někdo zahynul."
   ]
  },
  {
   "cell_type": "code",
   "execution_count": 112,
   "metadata": {
    "collapsed": false
   },
   "outputs": [],
   "source": [
    "df = df[df['p36'].isin([1, 3])]\n",
    "df['death'] = df['p13a'] > 0"
   ]
  },
  {
   "cell_type": "markdown",
   "metadata": {
    "collapsed": false
   },
   "source": [
    "Teď si vytvoříme kontingenční tabulku. Ta se využívá k vizualizaci vztahu nějakých statistických znaků."
   ]
  },
  {
   "cell_type": "code",
   "execution_count": 113,
   "metadata": {
    "collapsed": false
   },
   "outputs": [
    {
     "data": {
      "text/plain": "p36        1      3\ndeath              \nFalse  78618  73352\nTrue     911    448",
      "text/html": "<div>\n<style scoped>\n    .dataframe tbody tr th:only-of-type {\n        vertical-align: middle;\n    }\n\n    .dataframe tbody tr th {\n        vertical-align: top;\n    }\n\n    .dataframe thead th {\n        text-align: right;\n    }\n</style>\n<table border=\"1\" class=\"dataframe\">\n  <thead>\n    <tr style=\"text-align: right;\">\n      <th>p36</th>\n      <th>1</th>\n      <th>3</th>\n    </tr>\n    <tr>\n      <th>death</th>\n      <th></th>\n      <th></th>\n    </tr>\n  </thead>\n  <tbody>\n    <tr>\n      <th>False</th>\n      <td>78618</td>\n      <td>73352</td>\n    </tr>\n    <tr>\n      <th>True</th>\n      <td>911</td>\n      <td>448</td>\n    </tr>\n  </tbody>\n</table>\n</div>"
     },
     "execution_count": 113,
     "metadata": {},
     "output_type": "execute_result"
    }
   ],
   "source": [
    "contingency_table = pd.crosstab(df['death'], df['p36'])\n",
    "contingency_table"
   ]
  },
  {
   "cell_type": "markdown",
   "metadata": {
    "collapsed": false
   },
   "source": [
    "Provedeme výpočet $\\chi^2$ s využitím funkce *chi2_contingency*"
   ]
  },
  {
   "cell_type": "code",
   "execution_count": 114,
   "metadata": {
    "collapsed": false
   },
   "outputs": [
    {
     "data": {
      "text/plain": "(125.72070150000258,\n 3.5395243450138555e-29,\n 1,\n array([[78824.11109444, 73145.88890556],\n        [  704.88890556,   654.11109444]]))"
     },
     "execution_count": 114,
     "metadata": {},
     "output_type": "execute_result"
    }
   ],
   "source": [
    "result = chi2_contingency(contingency_table) # returns stat, p, dof, expected\n",
    "result"
   ]
  },
  {
   "cell_type": "markdown",
   "metadata": {
    "collapsed": false
   },
   "source": [
    "Nyní si zjistíme, na kterém druhu silnic dochází častěji k fatální nehodě"
   ]
  },
  {
   "cell_type": "code",
   "execution_count": 115,
   "metadata": {
    "collapsed": false
   },
   "outputs": [
    {
     "data": {
      "text/plain": "p36             1           3\ndeath                        \nFalse -206.111094  206.111094\nTrue   206.111094 -206.111094",
      "text/html": "<div>\n<style scoped>\n    .dataframe tbody tr th:only-of-type {\n        vertical-align: middle;\n    }\n\n    .dataframe tbody tr th {\n        vertical-align: top;\n    }\n\n    .dataframe thead th {\n        text-align: right;\n    }\n</style>\n<table border=\"1\" class=\"dataframe\">\n  <thead>\n    <tr style=\"text-align: right;\">\n      <th>p36</th>\n      <th>1</th>\n      <th>3</th>\n    </tr>\n    <tr>\n      <th>death</th>\n      <th></th>\n      <th></th>\n    </tr>\n  </thead>\n  <tbody>\n    <tr>\n      <th>False</th>\n      <td>-206.111094</td>\n      <td>206.111094</td>\n    </tr>\n    <tr>\n      <th>True</th>\n      <td>206.111094</td>\n      <td>-206.111094</td>\n    </tr>\n  </tbody>\n</table>\n</div>"
     },
     "execution_count": 115,
     "metadata": {},
     "output_type": "execute_result"
    }
   ],
   "source": [
    "more_dangerous_road = contingency_table - result[3]\n",
    "more_dangerous_road"
   ]
  },
  {
   "cell_type": "markdown",
   "metadata": {
    "collapsed": false
   },
   "source": [
    "### Závěr 1. hypotézy\n",
    "P hodnota nám vyšla $3,54 \\cdot 10^{-29}$.\n",
    "Tato hodnodnota je menší než $0,05$, z čehož můžeme rozhodnout, že nulová hypotéza neplatí.\n",
    "Z rozdílu očekávaných a získaných výsledků můžeme určit, že se na silnicích 1. třídy umíralo častěji než na silnicíh 3. třídy.\n"
   ]
  },
  {
   "cell_type": "markdown",
   "metadata": {
    "collapsed": false
   },
   "source": [
    "## Hypotéza 2\n",
    "*Při nehodách vozidel značky Škoda je škoda na vozidle nižší než při nehodách vozidel Audi.*"
   ]
  },
  {
   "cell_type": "markdown",
   "metadata": {
    "collapsed": false
   },
   "source": [
    "Vyfiltrujeme nehody tak, aby obsahovaly pouze nehody, kde figurovalo auto značky Škoda či Audi"
   ]
  },
  {
   "cell_type": "code",
   "execution_count": 116,
   "metadata": {
    "collapsed": false
   },
   "outputs": [],
   "source": [
    "df2 = df_orig.copy()\n",
    "df2 = df2[df2['p45a'].isin([2, 39])]\n",
    "\n",
    "df2['p45a'] = df2['p45a'].replace({2: 'Audi', 39: 'Škoda'})\n",
    "df2['p14'] = df2['p14'].astype(int)\n",
    "\n",
    "skoda_group = df2.loc[df2['p45a'] == 'Škoda']\n",
    "audi_group = df2.loc[df2['p45a'] == 'Audi']\n",
    "\n",
    "skoda_group = skoda_group['p14']\n",
    "audi_group = audi_group['p14']"
   ]
  },
  {
   "cell_type": "markdown",
   "source": [
    "Nyní máme vytvořené dvě skupiny nehod. Nehody vozidel Škoda a Audi.\n",
    "Provedeme t test."
   ],
   "metadata": {
    "collapsed": false
   }
  },
  {
   "cell_type": "code",
   "execution_count": 117,
   "outputs": [
    {
     "data": {
      "text/plain": "Ttest_indResult(statistic=23.391701716453692, pvalue=4.622063681663004e-121)"
     },
     "execution_count": 117,
     "metadata": {},
     "output_type": "execute_result"
    }
   ],
   "source": [
    "ttest_ind(a=audi_group, b=skoda_group, alternative=\"greater\")"
   ],
   "metadata": {
    "collapsed": false
   }
  },
  {
   "cell_type": "markdown",
   "source": [
    "### Závěr 2. hypotézy\n",
    "Použitím t testu s parametrem alternative='greater' nám vyšla P hodnota $4,622 \\cdot 10^{-121}$ což nám říká, že se dvě porovnávané skupiny nerovnají a že první skupina (v tomto případě nehody vozidel Audi) měla způsobenou větší hmotnou škodu než skupina druhá (nehody vozidel Škoda).\n",
    "\n",
    "Můžeme tedy říci, že Hypotéza 2 je pravdivá."
   ],
   "metadata": {
    "collapsed": false
   }
  }
 ],
 "metadata": {
  "kernelspec": {
   "display_name": "Python 3",
   "language": "python",
   "name": "python3"
  },
  "language_info": {
   "codemirror_mode": {
    "name": "ipython",
    "version": 3
   },
   "file_extension": ".py",
   "mimetype": "text/x-python",
   "name": "python",
   "nbconvert_exporter": "python",
   "pygments_lexer": "ipython3",
   "version": "3.10.1 (tags/v3.10.1:2cd268a, Dec  6 2021, 19:10:37) [MSC v.1929 64 bit (AMD64)]"
  },
  "vscode": {
   "interpreter": {
    "hash": "52634da84371cba311ea128a5ea7cdc41ff074b781779e754b270ff9f8153cee"
   }
  }
 },
 "nbformat": 4,
 "nbformat_minor": 0
}
