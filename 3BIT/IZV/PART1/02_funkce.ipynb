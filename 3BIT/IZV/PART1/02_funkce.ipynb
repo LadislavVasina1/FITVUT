{
 "cells": [
  {
   "cell_type": "markdown",
   "metadata": {
    "slideshow": {
     "slide_type": "slide"
    }
   },
   "source": [
    "# Funkce a broadcasting NumPy\n"
   ]
  },
  {
   "cell_type": "markdown",
   "metadata": {},
   "source": [
    "## 1. Vykreslení sinusovky\n",
    "Vykreslíme sinusovku\n",
    "$$ y= sin(x+2 + 1) + 1 $$\n"
   ]
  },
  {
   "cell_type": "code",
   "execution_count": null,
   "metadata": {},
   "outputs": [],
   "source": [
    "import numpy as np\n",
    "import matplotlib.pyplot as plt\n",
    "from math import sin\n"
   ]
  },
  {
   "cell_type": "markdown",
   "metadata": {
    "slideshow": {
     "slide_type": "slide"
    }
   },
   "source": [
    "Sinusovku vypočítáme a zakreslíme do grafu"
   ]
  },
  {
   "cell_type": "code",
   "execution_count": null,
   "metadata": {
    "slideshow": {
     "slide_type": "slide"
    }
   },
   "outputs": [],
   "source": [
    "x = np.linspace(0, 4 * np.pi, 1000) ###\n"
   ]
  },
  {
   "cell_type": "markdown",
   "metadata": {
    "slideshow": {
     "slide_type": "slide"
    }
   },
   "source": [
    "## 2. Výpočet charakteristiky RC článku (komplexní čísla)\n",
    "Vyřešme RC článek v střídavém napětí. Víme (z elektroniky), že je to možné řešit v oblasti komplexních čísel. \n",
    "\n",
    "$$Z_R = R$$\n",
    "$$Z_C = \\frac{1}{j \\omega C}$$\n",
    "\n",
    "$$\\omega = 2\\pi f$$\n",
    "\n",
    "![RC článek](https://upload.wikimedia.org/wikipedia/commons/e/e0/RC_Series_Filter_%28with_V%26I_Labels%29.svg)"
   ]
  },
  {
   "cell_type": "markdown",
   "metadata": {},
   "source": [
    "Kombinací Ohmova a Kirchhofova zákona určíme, jak vypadá napětí $V_C$.\n",
    "$$V_C = Z_C \\cdot \\frac{V_{in}}{Z_R + Z_C}$$\n",
    "a podíváme se na přenosovou charekteristiku (tj $V_C$ v závisloti na frekvenci)."
   ]
  },
  {
   "cell_type": "markdown",
   "metadata": {
    "slideshow": {
     "slide_type": "slide"
    }
   },
   "source": [
    "$$Z_C = \\frac{1}{j \\cdot 2  \\pi f C}$$\n"
   ]
  },
  {
   "cell_type": "code",
   "execution_count": null,
   "metadata": {
    "slideshow": {
     "slide_type": "-"
    }
   },
   "outputs": [],
   "source": [
    "# TODO: definice frekvencí (logspace od 10**-1 po 10**3) a impendance Z_C pro C=10e-3\n",
    "V_in = 5 ### 5 V vstup ###\n",
    "Z_R = 100 ### 100 ###\n",
    "U_C = Z_C * V_in / (Z_R + Z_C) ###"
   ]
  },
  {
   "cell_type": "markdown",
   "metadata": {},
   "source": [
    "Nyní můžeme hodnotu $U_C$ vykreslit. Abychom mohli vykreslit komplexní číslo, musíme samostatně zobrazit jeho absolutní hodnotu (`np.abs`) a úhel (`np.angle`)."
   ]
  },
  {
   "cell_type": "code",
   "execution_count": null,
   "metadata": {
    "slideshow": {
     "slide_type": "slide"
    }
   },
   "outputs": [],
   "source": [
    "import matplotlib.pyplot as plt\n",
    "fig, (ax1, ax2) = plt.subplots(2, 1, figsize=(8, 8))\n",
    "\n",
    "ax1.plot(f, np.abs(U_C)) # Pozor - museli jsme udelat absolutni hodnotu\n",
    "ax1.set(\n",
    "    xscale=\"log\",\n",
    "    xlabel=\"frequency [Hz]\",\n",
    "    ylabel=\"voltage [V]\")\n",
    "\n",
    "ax2.plot(f, np.angle(U_C) / np.pi * 180)\n",
    "ax2.set(\n",
    "    xscale=\"log\",\n",
    "    xlabel=\"frequency [Hz]\",\n",
    "    ylabel=\"phase [rad]\")\n",
    "\n",
    "plt.show()"
   ]
  },
  {
   "cell_type": "markdown",
   "metadata": {},
   "source": [
    "## 3 - kreslení 2-dimenzionálních funkcí"
   ]
  },
  {
   "cell_type": "markdown",
   "metadata": {},
   "source": [
    "Budeme vizualizovat tuto funkci (jako heatmapu)\n",
    "$$f(x, y) = sin(x) + cos(y) \\cdot x$$\n",
    "pro $x, y \\in (-\\pi, \\pi)$"
   ]
  },
  {
   "cell_type": "code",
   "execution_count": null,
   "metadata": {},
   "outputs": [],
   "source": [
    "# Vytvoříme lineární prostor X a Y\n"
   ]
  },
  {
   "cell_type": "code",
   "execution_count": null,
   "metadata": {},
   "outputs": [],
   "source": [
    "# spatny zpusob\n",
    "def calc_v1(X, Y):\n",
    "    Z1 = np.empty((Y.shape[0], X.shape[0]))\n",
    "    for ix, x in enumerate(X):\n",
    "        for iy, y in enumerate(Y):\n",
    "            Z1[iy, ix] = np.sin(x) + np.cos(y) * x\n",
    "    return Z1\n",
    "Z1 = calc_v1(X, Y)"
   ]
  },
  {
   "cell_type": "code",
   "execution_count": null,
   "metadata": {},
   "outputs": [],
   "source": [
    "import matplotlib.pyplot as plt\n",
    "plt.figure()\n",
    "plt.imshow(Z1, extent=[-3.14, 3.14,-3.14, 3.14])\n",
    "plt.show()"
   ]
  },
  {
   "cell_type": "code",
   "execution_count": null,
   "metadata": {},
   "outputs": [],
   "source": [
    "# muzeme vsak vyjit z predchazejiciho a Y neiterovat\n",
    "def calc_v2(X, Y): ###\n",
    "    Z1 = np.empty((Y.shape[0], X.shape[0])) ###\n",
    "    for ix, x in enumerate(X): ###\n",
    "        for iy, y in enumerate(Y): ###\n",
    "            Z1[iy, ix] = np.sin(x) + np.cos(y) * x ###            \n",
    "# jak to udelat?\n",
    "Z1 = calc_v2(X, Y) ###\n",
    "plt.figure() ###\n",
    "plt.imshow(Z1, extent=[-3.14, 3.14,-3.14, 3.14]) ###\n",
    "plt.show()###"
   ]
  },
  {
   "cell_type": "markdown",
   "metadata": {},
   "source": [
    "### Využití b'castu\n",
    "Jak ale se vyhnout všem smyčkám: Stačilo by vytvořit hodnoty \"x\" pro celou 2D mřížku a hodnoty Y pro celou mřížku. K tomu použijeme broadcast\n",
    "![Broadcast](bcast.png)"
   ]
  },
  {
   "cell_type": "code",
   "execution_count": null,
   "metadata": {},
   "outputs": [],
   "source": [
    "# S využitím broadcastu však jsme schopni použít jen jednu funkci!\n"
   ]
  },
  {
   "cell_type": "code",
   "execution_count": null,
   "metadata": {},
   "outputs": [],
   "source": [
    "plt.figure()\n",
    "plt.imshow(Z2, extent=[-3.14, 3.14,-3.14, 3.14])\n",
    "plt.show()"
   ]
  },
  {
   "cell_type": "code",
   "execution_count": null,
   "metadata": {},
   "outputs": [],
   "source": [
    "# Vysledky by měly odpovídat\n",
    "np.allclose(Z1, Z2)"
   ]
  },
  {
   "cell_type": "markdown",
   "metadata": {},
   "source": [
    "Pro změnu rozměrů můžeme použít i indexování `y[:, np.newaxis] == y.reshape(-1, 1)`"
   ]
  },
  {
   "cell_type": "code",
   "execution_count": null,
   "metadata": {},
   "outputs": [],
   "source": [
    "# Co výkonnost?\n",
    "X = np.linspace(-np.pi, np.pi, 500)\n",
    "Y = np.linspace(-np.pi, np.pi, 500)\n",
    "\n",
    "%time calc_v1(X,Y)\n",
    "%time np.sin(X) + np.cos(Y[:, np.newaxis]) * X"
   ]
  },
  {
   "cell_type": "code",
   "execution_count": 6,
   "metadata": {},
   "outputs": [],
   "source": [
    "pass"
   ]
  },
  {
   "cell_type": "code",
   "execution_count": null,
   "outputs": [],
   "source": [],
   "metadata": {
    "collapsed": false,
    "pycharm": {
     "name": "#%%\n"
    }
   }
  }
 ],
 "metadata": {
  "celltoolbar": "Slideshow",
  "kernelspec": {
   "display_name": "Python 3.10.6 64-bit",
   "language": "python",
   "name": "python3"
  },
  "language_info": {
   "codemirror_mode": {
    "name": "ipython",
    "version": 3
   },
   "file_extension": ".py",
   "mimetype": "text/x-python",
   "name": "python",
   "nbconvert_exporter": "python",
   "pygments_lexer": "ipython3",
   "version": "3.10.6"
  },
  "vscode": {
   "interpreter": {
    "hash": "e7370f93d1d0cde622a1f8e1c04877d8463912d04d973331ad4851f04de6915a"
   }
  }
 },
 "nbformat": 4,
 "nbformat_minor": 4
}